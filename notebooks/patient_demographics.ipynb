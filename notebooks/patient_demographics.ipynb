{
 "cells": [
  {
   "cell_type": "code",
   "execution_count": 1,
   "id": "947f50c5-d52b-4b14-bf99-6f8ed3c010eb",
   "metadata": {},
   "outputs": [],
   "source": [
    "!pip install -q -r requirements.txt"
   ]
  },
  {
   "cell_type": "code",
   "execution_count": 2,
   "id": "d7c4ebe1-e5cf-41f8-82c9-8bff8ef5f183",
   "metadata": {
    "tags": []
   },
   "outputs": [
    {
     "data": {
      "text/html": [
       "<div>\n",
       "<style scoped>\n",
       "    .dataframe tbody tr th:only-of-type {\n",
       "        vertical-align: middle;\n",
       "    }\n",
       "\n",
       "    .dataframe tbody tr th {\n",
       "        vertical-align: top;\n",
       "    }\n",
       "\n",
       "    .dataframe thead th {\n",
       "        text-align: right;\n",
       "    }\n",
       "</style>\n",
       "<table border=\"1\" class=\"dataframe\">\n",
       "  <thead>\n",
       "    <tr style=\"text-align: right;\">\n",
       "      <th></th>\n",
       "      <th>Patient Number</th>\n",
       "      <th>Age\\n(years)</th>\n",
       "      <th>Gender</th>\n",
       "      <th>Intraventricular</th>\n",
       "      <th>Intraparenchymal</th>\n",
       "      <th>Subarachnoid</th>\n",
       "      <th>Epidural</th>\n",
       "      <th>Subdural</th>\n",
       "      <th>Fracture (Yes/No)</th>\n",
       "      <th>Condition on file</th>\n",
       "      <th>Note</th>\n",
       "    </tr>\n",
       "  </thead>\n",
       "  <tbody>\n",
       "    <tr>\n",
       "      <th>0</th>\n",
       "      <td>49</td>\n",
       "      <td>35.000000</td>\n",
       "      <td>Male</td>\n",
       "      <td>NaN</td>\n",
       "      <td>1.0</td>\n",
       "      <td>NaN</td>\n",
       "      <td>1.0</td>\n",
       "      <td>NaN</td>\n",
       "      <td>1.0</td>\n",
       "      <td>Intracranial HGE+ Extradural HGE</td>\n",
       "      <td>NaN</td>\n",
       "    </tr>\n",
       "    <tr>\n",
       "      <th>1</th>\n",
       "      <td>50</td>\n",
       "      <td>0.583333</td>\n",
       "      <td>Female</td>\n",
       "      <td>NaN</td>\n",
       "      <td>1.0</td>\n",
       "      <td>NaN</td>\n",
       "      <td>NaN</td>\n",
       "      <td>NaN</td>\n",
       "      <td>1.0</td>\n",
       "      <td>Subdural HGE</td>\n",
       "      <td>NaN</td>\n",
       "    </tr>\n",
       "    <tr>\n",
       "      <th>2</th>\n",
       "      <td>51</td>\n",
       "      <td>5.000000</td>\n",
       "      <td>Male</td>\n",
       "      <td>NaN</td>\n",
       "      <td>1.0</td>\n",
       "      <td>NaN</td>\n",
       "      <td>NaN</td>\n",
       "      <td>1.0</td>\n",
       "      <td>1.0</td>\n",
       "      <td>Extadural HGE</td>\n",
       "      <td>NaN</td>\n",
       "    </tr>\n",
       "    <tr>\n",
       "      <th>3</th>\n",
       "      <td>52</td>\n",
       "      <td>8.000000</td>\n",
       "      <td>Male</td>\n",
       "      <td>NaN</td>\n",
       "      <td>NaN</td>\n",
       "      <td>NaN</td>\n",
       "      <td>1.0</td>\n",
       "      <td>NaN</td>\n",
       "      <td>1.0</td>\n",
       "      <td>Extadural HGE</td>\n",
       "      <td>NaN</td>\n",
       "    </tr>\n",
       "    <tr>\n",
       "      <th>4</th>\n",
       "      <td>53</td>\n",
       "      <td>44.000000</td>\n",
       "      <td>Male</td>\n",
       "      <td>NaN</td>\n",
       "      <td>1.0</td>\n",
       "      <td>NaN</td>\n",
       "      <td>1.0</td>\n",
       "      <td>NaN</td>\n",
       "      <td>1.0</td>\n",
       "      <td>Intracranial HGE+ Extradural HGE</td>\n",
       "      <td>NaN</td>\n",
       "    </tr>\n",
       "    <tr>\n",
       "      <th>...</th>\n",
       "      <td>...</td>\n",
       "      <td>...</td>\n",
       "      <td>...</td>\n",
       "      <td>...</td>\n",
       "      <td>...</td>\n",
       "      <td>...</td>\n",
       "      <td>...</td>\n",
       "      <td>...</td>\n",
       "      <td>...</td>\n",
       "      <td>...</td>\n",
       "      <td>...</td>\n",
       "    </tr>\n",
       "    <tr>\n",
       "      <th>77</th>\n",
       "      <td>126</td>\n",
       "      <td>58.000000</td>\n",
       "      <td>Female</td>\n",
       "      <td>NaN</td>\n",
       "      <td>NaN</td>\n",
       "      <td>NaN</td>\n",
       "      <td>NaN</td>\n",
       "      <td>NaN</td>\n",
       "      <td>NaN</td>\n",
       "      <td>Normal CT</td>\n",
       "      <td>NaN</td>\n",
       "    </tr>\n",
       "    <tr>\n",
       "      <th>78</th>\n",
       "      <td>127</td>\n",
       "      <td>5.000000</td>\n",
       "      <td>Male</td>\n",
       "      <td>NaN</td>\n",
       "      <td>NaN</td>\n",
       "      <td>NaN</td>\n",
       "      <td>NaN</td>\n",
       "      <td>NaN</td>\n",
       "      <td>NaN</td>\n",
       "      <td>Normal CT</td>\n",
       "      <td>NaN</td>\n",
       "    </tr>\n",
       "    <tr>\n",
       "      <th>79</th>\n",
       "      <td>128</td>\n",
       "      <td>32.000000</td>\n",
       "      <td>Female</td>\n",
       "      <td>NaN</td>\n",
       "      <td>NaN</td>\n",
       "      <td>NaN</td>\n",
       "      <td>NaN</td>\n",
       "      <td>NaN</td>\n",
       "      <td>NaN</td>\n",
       "      <td>Normal CT</td>\n",
       "      <td>NaN</td>\n",
       "    </tr>\n",
       "    <tr>\n",
       "      <th>80</th>\n",
       "      <td>129</td>\n",
       "      <td>5.000000</td>\n",
       "      <td>Female</td>\n",
       "      <td>NaN</td>\n",
       "      <td>NaN</td>\n",
       "      <td>NaN</td>\n",
       "      <td>NaN</td>\n",
       "      <td>NaN</td>\n",
       "      <td>NaN</td>\n",
       "      <td>Normal CT</td>\n",
       "      <td>NaN</td>\n",
       "    </tr>\n",
       "    <tr>\n",
       "      <th>81</th>\n",
       "      <td>130</td>\n",
       "      <td>24.000000</td>\n",
       "      <td>Female</td>\n",
       "      <td>NaN</td>\n",
       "      <td>NaN</td>\n",
       "      <td>NaN</td>\n",
       "      <td>NaN</td>\n",
       "      <td>NaN</td>\n",
       "      <td>NaN</td>\n",
       "      <td>Normal CT</td>\n",
       "      <td>NaN</td>\n",
       "    </tr>\n",
       "  </tbody>\n",
       "</table>\n",
       "<p>82 rows × 11 columns</p>\n",
       "</div>"
      ],
      "text/plain": [
       "    Patient Number  Age\\n(years)  Gender  Intraventricular  Intraparenchymal  \\\n",
       "0               49     35.000000    Male               NaN               1.0   \n",
       "1               50      0.583333  Female               NaN               1.0   \n",
       "2               51      5.000000    Male               NaN               1.0   \n",
       "3               52      8.000000    Male               NaN               NaN   \n",
       "4               53     44.000000    Male               NaN               1.0   \n",
       "..             ...           ...     ...               ...               ...   \n",
       "77             126     58.000000  Female               NaN               NaN   \n",
       "78             127      5.000000    Male               NaN               NaN   \n",
       "79             128     32.000000  Female               NaN               NaN   \n",
       "80             129      5.000000  Female               NaN               NaN   \n",
       "81             130     24.000000  Female               NaN               NaN   \n",
       "\n",
       "    Subarachnoid  Epidural  Subdural  Fracture (Yes/No)  \\\n",
       "0            NaN       1.0       NaN                1.0   \n",
       "1            NaN       NaN       NaN                1.0   \n",
       "2            NaN       NaN       1.0                1.0   \n",
       "3            NaN       1.0       NaN                1.0   \n",
       "4            NaN       1.0       NaN                1.0   \n",
       "..           ...       ...       ...                ...   \n",
       "77           NaN       NaN       NaN                NaN   \n",
       "78           NaN       NaN       NaN                NaN   \n",
       "79           NaN       NaN       NaN                NaN   \n",
       "80           NaN       NaN       NaN                NaN   \n",
       "81           NaN       NaN       NaN                NaN   \n",
       "\n",
       "                    Condition on file Note  \n",
       "0   Intracranial HGE+ Extradural HGE   NaN  \n",
       "1                       Subdural HGE   NaN  \n",
       "2                      Extadural HGE   NaN  \n",
       "3                      Extadural HGE   NaN  \n",
       "4   Intracranial HGE+ Extradural HGE   NaN  \n",
       "..                                ...  ...  \n",
       "77                          Normal CT  NaN  \n",
       "78                          Normal CT  NaN  \n",
       "79                          Normal CT  NaN  \n",
       "80                          Normal CT  NaN  \n",
       "81                          Normal CT  NaN  \n",
       "\n",
       "[82 rows x 11 columns]"
      ]
     },
     "execution_count": 2,
     "metadata": {},
     "output_type": "execute_result"
    }
   ],
   "source": [
    "from pathlib import Path\n",
    "\n",
    "import pandas as pd\n",
    "import seaborn as sns\n",
    "\n",
    "base_dir = Path('/gpfs_projects/common_data/CT_intracranial_hemorrhage')\n",
    "df = pd.read_csv(base_dir / 'patient_demographics.csv')\n",
    "df"
   ]
  },
  {
   "cell_type": "code",
   "execution_count": 3,
   "id": "5e1f1290-34ea-4d86-a519-089c85b24078",
   "metadata": {
    "tags": []
   },
   "outputs": [
    {
     "data": {
      "text/plain": [
       "<Axes: xlabel='Age\\n(years)', ylabel='Count'>"
      ]
     },
     "execution_count": 3,
     "metadata": {},
     "output_type": "execute_result"
    },
    {
     "data": {
      "image/png": "[encoded data removed]",
      "text/plain": [
       "<Figure size 640x480 with 1 Axes>"
      ]
     },
     "metadata": {},
     "output_type": "display_data"
    }
   ],
   "source": [
    "sns.histplot(data=df, x='Age\\n(years)')"
   ]
  },
  {
   "cell_type": "code",
   "execution_count": 4,
   "id": "5340077b-ce3d-4258-bb2e-c2e07afb4c31",
   "metadata": {
    "tags": []
   },
   "outputs": [
    {
     "data": {
      "text/plain": [
       "count    82.000000\n",
       "mean     27.843733\n",
       "std      19.520890\n",
       "min       0.002747\n",
       "25%      11.250000\n",
       "50%      26.000000\n",
       "75%      40.000000\n",
       "max      72.000000\n",
       "Name: Age\\n(years), dtype: float64"
      ]
     },
     "execution_count": 4,
     "metadata": {},
     "output_type": "execute_result"
    }
   ],
   "source": [
    "df['Age\\n(years)'].describe()"
   ]
  },
  {
   "cell_type": "code",
   "execution_count": 5,
   "id": "5b554ea3-3ae3-4fcc-8adb-889772899109",
   "metadata": {
    "tags": []
   },
   "outputs": [],
   "source": [
    "df['ICH status'] = df['Condition on file'] != 'Normal CT'"
   ]
  },
  {
   "cell_type": "code",
   "execution_count": 6,
   "id": "dff85cf0-4972-44aa-84f5-8152ed10a9d2",
   "metadata": {
    "tags": []
   },
   "outputs": [
    {
     "data": {
      "text/plain": [
       "<Axes: xlabel='Age\\n(years)', ylabel='Count'>"
      ]
     },
     "execution_count": 6,
     "metadata": {},
     "output_type": "execute_result"
    },
    {
     "data": {
      "image/png": "[encoded data removed]",
      "text/plain": [
       "<Figure size 1050x750 with 1 Axes>"
      ]
     },
     "metadata": {},
     "output_type": "display_data"
    }
   ],
   "source": [
    "import matplotlib.pyplot as plt\n",
    "f, ax = plt.subplots(figsize=(3.5, 2.5), dpi=300)\n",
    "sns.histplot(ax=ax, data=df, x='Age\\n(years)', hue='ICH status')"
   ]
  },
  {
   "cell_type": "code",
   "execution_count": 7,
   "id": "dd451e3d-40b1-4e3d-a146-af5a26146b30",
   "metadata": {
    "tags": []
   },
   "outputs": [
    {
     "data": {
      "text/plain": [
       "0     Intracranial HGE+ Extradural HGE \n",
       "1                         Subdural HGE \n",
       "2                        Extadural HGE \n",
       "3                        Extadural HGE \n",
       "4     Intracranial HGE+ Extradural HGE \n",
       "                    ...                \n",
       "77                            Normal CT\n",
       "78                            Normal CT\n",
       "79                            Normal CT\n",
       "80                            Normal CT\n",
       "81                            Normal CT\n",
       "Name: Condition on file, Length: 82, dtype: category\n",
       "Categories (13, object): ['Chronic Intracranial HGE ', 'Extadural HGE ', 'Extradural HGE ', 'Extradural HGE + Intracranial HGE + Extradura..., ..., 'Normal CT', 'Subdural HGE ', 'Subdural HGE +Intracranial HGE + IVH', 'Subdural HGE+ Intracranial HGE ']"
      ]
     },
     "execution_count": 7,
     "metadata": {},
     "output_type": "execute_result"
    }
   ],
   "source": [
    "df['Condition on file'].astype('category')"
   ]
  },
  {
   "cell_type": "code",
   "execution_count": 8,
   "id": "69456232-4874-4993-b117-87b25567c8ae",
   "metadata": {
    "tags": []
   },
   "outputs": [
    {
     "data": {
      "text/plain": [
       "array(['Intracranial HGE+ Extradural HGE ', 'Subdural HGE ',\n",
       "       'Extadural HGE ', 'Normal CT', 'Extradural HGE ', 'ICH',\n",
       "       'Intracranial HGE ', 'Chronic Intracranial HGE ',\n",
       "       'Subdural HGE+ Intracranial HGE ',\n",
       "       'Extradural HGE + Intracranial HGE + Extradural HGE ',\n",
       "       'Intracranial HGE + IVH', 'Subdural HGE +Intracranial HGE + IVH',\n",
       "       'Intracranial HGE + Subdural HGE '], dtype=object)"
      ]
     },
     "execution_count": 8,
     "metadata": {},
     "output_type": "execute_result"
    }
   ],
   "source": [
    "df['Condition on file'].unique()"
   ]
  },
  {
   "cell_type": "code",
   "execution_count": null,
   "id": "b7b6d317-a495-4a67-8da5-f9af506c6e7d",
   "metadata": {},
   "outputs": [],
   "source": []
  }
 ],
 "metadata": {
  "kernelspec": {
   "display_name": "Python 3 (ipykernel)",
   "language": "python",
   "name": "python3"
  },
  "language_info": {
   "codemirror_mode": {
    "name": "ipython",
    "version": 3
   },
   "file_extension": ".py",
   "mimetype": "text/x-python",
   "name": "python",
   "nbconvert_exporter": "python",
   "pygments_lexer": "ipython3",
   "version": "3.11.3"
  }
 },
 "nbformat": 4,
 "nbformat_minor": 5
}
